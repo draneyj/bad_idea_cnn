{
 "cells": [
  {
   "cell_type": "code",
   "execution_count": null,
   "id": "bbc4731e",
   "metadata": {},
   "outputs": [
    {
     "ename": "",
     "evalue": "",
     "output_type": "error",
     "traceback": [
      "\u001b[1;31mRunning cells with 'jaxmd (Python 3.12.11)' requires the ipykernel package.\n",
      "\u001b[1;31m<a href='command:jupyter.createPythonEnvAndSelectController'>Create a Python Environment</a> with the required packages.\n",
      "\u001b[1;31mOr install 'ipykernel' using the command: 'conda install -n jaxmd ipykernel --update-deps --force-reinstall'"
     ]
    }
   ],
   "source": [
    "import jax\n",
    "import jax.numpy as jnp\n",
    "import cnn\n",
    "import importlib"
   ]
  }
 ],
 "metadata": {
  "kernelspec": {
   "display_name": "jaxmd",
   "language": "python",
   "name": "python3"
  },
  "language_info": {
   "name": "python",
   "version": "3.12.11"
  }
 },
 "nbformat": 4,
 "nbformat_minor": 5
}
